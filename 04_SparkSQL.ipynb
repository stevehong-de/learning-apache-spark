{
 "cells": [
  {
   "cell_type": "code",
   "execution_count": 1,
   "id": "23038bb5-b956-42b3-bca7-a9aa67a237d9",
   "metadata": {},
   "outputs": [],
   "source": [
    "import pyspark\n",
    "from pyspark import SparkContext\n",
    "\n",
    "sc = SparkContext()\n",
    "spark = pyspark.sql.SparkSession(sc, jsparkSession=None)"
   ]
  },
  {
   "cell_type": "code",
   "execution_count": 2,
   "id": "4b7c9808-866e-49cb-877a-04ebbeebeeff",
   "metadata": {},
   "outputs": [],
   "source": [
    "# Prepare Data\n",
    "\n",
    "# chapters\n",
    "bookChaptersDF = spark.read.option(\"inferSchema\", \"true\").option(\"header\", \"true\").csv(\"bookcontents.csv\")\n",
    "\n",
    "# sections\n",
    "sectionsDF = spark.read.option(\"inferSchema\", \"true\").option(\"header\", \"true\").csv(\"sections.csv\")\n",
    "\n",
    "# join\n",
    "bookContentDF = bookChaptersDF.join(sectionsDF, \"Chapter\")"
   ]
  },
  {
   "cell_type": "code",
   "execution_count": 3,
   "id": "42fce2cc-7bf2-4ad8-970c-1ebad614f22c",
   "metadata": {},
   "outputs": [],
   "source": [
    "# Create temporary view of DataFrame\n",
    "\n",
    "bookContentDF.createOrReplaceTempView(\"bookView\")"
   ]
  },
  {
   "cell_type": "code",
   "execution_count": 4,
   "id": "e5f8c395-d4c8-4b16-8e5d-7951b23a8988",
   "metadata": {},
   "outputs": [
    {
     "name": "stdout",
     "output_type": "stream",
     "text": [
      "+-------+------------+----+-------+--------------------+\n",
      "|Chapter|        Name|Page|Section|        Section_Name|\n",
      "+-------+------------+----+-------+--------------------+\n",
      "|      1|Introduction|  11|    1.1|What is this Cook...|\n",
      "|      1|Introduction|  11|    1.2|Data Engineer vs ...|\n",
      "|      1|Introduction|  11|    1.3|My Data Science P...|\n",
      "|      1|Introduction|  11|    1.4|  Who Companies Need|\n",
      "+-------+------------+----+-------+--------------------+\n",
      "\n"
     ]
    }
   ],
   "source": [
    "spark.sql(\"SELECT * FROM bookView where Chapter = 1\").show()"
   ]
  },
  {
   "cell_type": "code",
   "execution_count": 5,
   "id": "f9a01c3b-fc77-4a13-8536-bc32927e699f",
   "metadata": {},
   "outputs": [
    {
     "data": {
      "text/plain": [
       "[Table(name='bookView', catalog=None, namespace=[], description=None, tableType='TEMPORARY', isTemporary=True)]"
      ]
     },
     "execution_count": 5,
     "metadata": {},
     "output_type": "execute_result"
    }
   ],
   "source": [
    "# Create dataframe from SparkSQL\n",
    "\n",
    "spark.catalog.listTables()"
   ]
  },
  {
   "cell_type": "code",
   "execution_count": 6,
   "id": "873902fc-ff9e-4381-afe9-bf5fa51cdd27",
   "metadata": {},
   "outputs": [
    {
     "name": "stdout",
     "output_type": "stream",
     "text": [
      "+-------+--------------------+----+-------+--------------------+\n",
      "|Chapter|                Name|Page|Section|        Section_Name|\n",
      "+-------+--------------------+----+-------+--------------------+\n",
      "|      1|        Introduction|  11|    1.1|What is this Cook...|\n",
      "|      1|        Introduction|  11|    1.2|Data Engineer vs ...|\n",
      "|      1|        Introduction|  11|    1.3|My Data Science P...|\n",
      "|      1|        Introduction|  11|    1.4|  Who Companies Need|\n",
      "|      2|Basic Engineering...|  19|    2.1|       Learn To Code|\n",
      "|      2|Basic Engineering...|  19|    2.2|Get Familiar With...|\n",
      "|      2|Basic Engineering...|  19|    2.3|   Agile Development|\n",
      "|      2|Basic Engineering...|  19|    2.4|Software Engineer...|\n",
      "|      2|Basic Engineering...|  19|    2.5|Learn how a Compu...|\n",
      "|      2|Basic Engineering...|  19|    2.6|Data Network Tran...|\n",
      "|      2|Basic Engineering...|  19|    2.7|Security and Privacy|\n",
      "|      2|Basic Engineering...|  19|    2.8|               Linux|\n",
      "|      2|Basic Engineering...|  19|    2.9|              Docker|\n",
      "|      2|Basic Engineering...|  19|    2.1|           The Cloud|\n",
      "|      2|Basic Engineering...|  19|   2.11|Security Zone Design|\n",
      "|      3|Advanced Engineer...|  28|    3.1|Data Science Plat...|\n",
      "|      3|Advanced Engineer...|  28|    3.2|    Hadoop Platforms|\n",
      "|      3|Advanced Engineer...|  28|    3.3|             Connect|\n",
      "|      3|Advanced Engineer...|  28|    3.4|              Buffer|\n",
      "|      3|Advanced Engineer...|  28|    3.5|Processing Framew...|\n",
      "+-------+--------------------+----+-------+--------------------+\n",
      "only showing top 20 rows\n",
      "\n"
     ]
    }
   ],
   "source": [
    "viewDF = spark.sql(\"SELECT * FROM bookView\")\n",
    "viewDF.show()"
   ]
  },
  {
   "cell_type": "code",
   "execution_count": null,
   "id": "2187491b-024c-4434-a21c-94d3f67201d4",
   "metadata": {},
   "outputs": [],
   "source": []
  }
 ],
 "metadata": {
  "kernelspec": {
   "display_name": "Python 3 (ipykernel)",
   "language": "python",
   "name": "python3"
  },
  "language_info": {
   "codemirror_mode": {
    "name": "ipython",
    "version": 3
   },
   "file_extension": ".py",
   "mimetype": "text/x-python",
   "name": "python",
   "nbconvert_exporter": "python",
   "pygments_lexer": "ipython3",
   "version": "3.11.9"
  }
 },
 "nbformat": 4,
 "nbformat_minor": 5
}
