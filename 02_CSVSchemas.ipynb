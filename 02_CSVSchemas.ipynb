{
 "cells": [
  {
   "cell_type": "code",
   "execution_count": 1,
   "id": "8dfc8003-6b4b-4455-b527-a04985fc2e93",
   "metadata": {},
   "outputs": [],
   "source": [
    "import pyspark\n",
    "from pyspark import SparkContext\n",
    "\n",
    "sc = SparkContext()\n",
    "spark = pyspark.sql.SparkSession(sc, jsparkSession=None)"
   ]
  },
  {
   "cell_type": "code",
   "execution_count": 2,
   "id": "441654e4-3b33-4619-9efd-634453d63eae",
   "metadata": {},
   "outputs": [],
   "source": [
    "# Read csv\n",
    "bookDF = spark.read.csv(\"bookcontents.csv\")"
   ]
  },
  {
   "cell_type": "code",
   "execution_count": 3,
   "id": "f049f3c1-2475-476a-b2ae-6a47cfaa54b5",
   "metadata": {},
   "outputs": [
    {
     "name": "stdout",
     "output_type": "stream",
     "text": [
      "root\n",
      " |-- _c0: string (nullable = true)\n",
      " |-- _c1: string (nullable = true)\n",
      " |-- _c2: string (nullable = true)\n",
      "\n"
     ]
    }
   ],
   "source": [
    "bookDF.printSchema()"
   ]
  },
  {
   "cell_type": "code",
   "execution_count": 5,
   "id": "272d6208-bb1a-4494-9552-800f1c6528c7",
   "metadata": {},
   "outputs": [
    {
     "name": "stdout",
     "output_type": "stream",
     "text": [
      "+-------+--------------------+----+\n",
      "|    _c0|                 _c1| _c2|\n",
      "+-------+--------------------+----+\n",
      "|Chapter|                Name|Page|\n",
      "|      1|        Introduction|  11|\n",
      "|      2|Basic Engineering...|  19|\n",
      "|      3|Advanced Engineer...|  28|\n",
      "|      4|     Hands On Course|  60|\n",
      "|      5|        Case Studies|  62|\n",
      "|      6|Best Practices Cl...|  73|\n",
      "|      7|130+ Data Sources...|  77|\n",
      "|      8|1001 Interview Qu...|  82|\n",
      "|      9|Recommended Books...|  87|\n",
      "+-------+--------------------+----+\n",
      "\n"
     ]
    }
   ],
   "source": [
    "bookDF.show() # column names are not in header"
   ]
  },
  {
   "cell_type": "code",
   "execution_count": 6,
   "id": "0ed93236-8b69-496f-bf1d-2e5e43174ff3",
   "metadata": {},
   "outputs": [],
   "source": [
    "# Inference of schema with no header\n",
    "bookInferDF = spark.read.option(\"inferSchema\", \"true\").csv(\"bookContentsNoHeader.csv\")"
   ]
  },
  {
   "cell_type": "code",
   "execution_count": 7,
   "id": "62511b75-a736-42bc-9f66-bafd90e69ce5",
   "metadata": {},
   "outputs": [
    {
     "name": "stdout",
     "output_type": "stream",
     "text": [
      "root\n",
      " |-- _c0: integer (nullable = true)\n",
      " |-- _c1: string (nullable = true)\n",
      " |-- _c2: integer (nullable = true)\n",
      "\n"
     ]
    }
   ],
   "source": [
    "bookInferDF.printSchema()"
   ]
  },
  {
   "cell_type": "code",
   "execution_count": 8,
   "id": "81e6a963-e532-44e1-99c3-b4720817d0c8",
   "metadata": {},
   "outputs": [
    {
     "name": "stdout",
     "output_type": "stream",
     "text": [
      "+---+--------------------+---+\n",
      "|_c0|                 _c1|_c2|\n",
      "+---+--------------------+---+\n",
      "|  1|        Introduction| 11|\n",
      "|  2|Basic Engineering...| 19|\n",
      "|  3|Advanced Engineer...| 28|\n",
      "|  4|     Hands On Course| 60|\n",
      "|  5|        Case Studies| 62|\n",
      "|  6|Best Practices Cl...| 73|\n",
      "|  7|130+ Data Sources...| 77|\n",
      "|  8|1001 Interview Qu...| 82|\n",
      "|  9|Recommended Books...| 87|\n",
      "+---+--------------------+---+\n",
      "\n"
     ]
    }
   ],
   "source": [
    "bookInferDF.show()"
   ]
  },
  {
   "cell_type": "code",
   "execution_count": 9,
   "id": "07c900cc-49c6-43cb-afdd-feb0abdd69d0",
   "metadata": {},
   "outputs": [],
   "source": [
    "# Use header row\n",
    "bookHeaderDF = spark.read.option(\"header\", \"true\").csv(\"bookcontents.csv\")"
   ]
  },
  {
   "cell_type": "code",
   "execution_count": 15,
   "id": "47085118-2640-40b2-86f7-b8fbb5d0d30b",
   "metadata": {},
   "outputs": [
    {
     "name": "stdout",
     "output_type": "stream",
     "text": [
      "root\n",
      " |-- Chapter: integer (nullable = true)\n",
      " |-- Name: string (nullable = true)\n",
      " |-- Page: integer (nullable = true)\n",
      "\n"
     ]
    }
   ],
   "source": [
    "bookHeaderDF.printSchema() # data types not defined"
   ]
  },
  {
   "cell_type": "code",
   "execution_count": 16,
   "id": "cc8591a6-23e6-4bbe-9328-0b6be7278181",
   "metadata": {},
   "outputs": [
    {
     "name": "stdout",
     "output_type": "stream",
     "text": [
      "+-------+--------------------+----+\n",
      "|Chapter|                Name|Page|\n",
      "+-------+--------------------+----+\n",
      "|      1|        Introduction|  11|\n",
      "|      2|Basic Engineering...|  19|\n",
      "|      3|Advanced Engineer...|  28|\n",
      "|      4|     Hands On Course|  60|\n",
      "|      5|        Case Studies|  62|\n",
      "|      6|Best Practices Cl...|  73|\n",
      "|      7|130+ Data Sources...|  77|\n",
      "|      8|1001 Interview Qu...|  82|\n",
      "|      9|Recommended Books...|  87|\n",
      "+-------+--------------------+----+\n",
      "\n"
     ]
    }
   ],
   "source": [
    "bookHeaderDF.show()"
   ]
  },
  {
   "cell_type": "code",
   "execution_count": 17,
   "id": "b695f4f9-db1f-4ee1-8d15-718be9d3e859",
   "metadata": {},
   "outputs": [],
   "source": [
    "# Combination (Infer schema & Header)\n",
    "bookHeaderDF = spark.read.option(\"inferSchema\", \"true\").option(\"header\", \"true\").csv(\"bookcontents.csv\")"
   ]
  },
  {
   "cell_type": "code",
   "execution_count": 18,
   "id": "29d961e1-e7a6-410d-b2a6-dd4da90d033c",
   "metadata": {},
   "outputs": [
    {
     "name": "stdout",
     "output_type": "stream",
     "text": [
      "root\n",
      " |-- Chapter: integer (nullable = true)\n",
      " |-- Name: string (nullable = true)\n",
      " |-- Page: integer (nullable = true)\n",
      "\n"
     ]
    }
   ],
   "source": [
    "bookHeaderDF.printSchema()"
   ]
  },
  {
   "cell_type": "code",
   "execution_count": 19,
   "id": "ede80b6d-7705-45a8-9f74-b192841e9288",
   "metadata": {},
   "outputs": [
    {
     "name": "stdout",
     "output_type": "stream",
     "text": [
      "+-------+--------------------+----+\n",
      "|Chapter|                Name|Page|\n",
      "+-------+--------------------+----+\n",
      "|      1|        Introduction|  11|\n",
      "|      2|Basic Engineering...|  19|\n",
      "|      3|Advanced Engineer...|  28|\n",
      "|      4|     Hands On Course|  60|\n",
      "|      5|        Case Studies|  62|\n",
      "|      6|Best Practices Cl...|  73|\n",
      "|      7|130+ Data Sources...|  77|\n",
      "|      8|1001 Interview Qu...|  82|\n",
      "|      9|Recommended Books...|  87|\n",
      "+-------+--------------------+----+\n",
      "\n"
     ]
    }
   ],
   "source": [
    "bookHeaderDF.show()"
   ]
  },
  {
   "cell_type": "code",
   "execution_count": 22,
   "id": "525867b6-d653-4085-8b43-5402ce796e92",
   "metadata": {},
   "outputs": [],
   "source": [
    "# Manual Schema - inferSchema could be wrong when we use bigger data\n",
    "from pyspark.sql.types import *"
   ]
  },
  {
   "cell_type": "code",
   "execution_count": 23,
   "id": "93513309-9794-4c26-84cb-284d57f50e90",
   "metadata": {},
   "outputs": [
    {
     "name": "stdout",
     "output_type": "stream",
     "text": [
      "root\n",
      " |-- _c0: integer (nullable = true)\n",
      " |-- _c1: string (nullable = true)\n",
      " |-- _c2: integer (nullable = true)\n",
      "\n"
     ]
    }
   ],
   "source": [
    "spark.read.option(\"inferSchema\", \"true\").csv(\"bookcontentsNoHeader.csv\").printSchema()"
   ]
  },
  {
   "cell_type": "code",
   "execution_count": 24,
   "id": "3769216d-6cb7-451e-96da-18fe3197e1db",
   "metadata": {},
   "outputs": [],
   "source": [
    "# Define schema\n",
    "columns = [\n",
    "    StructField(\"Chapter\", IntegerType()),\n",
    "    StructField(\"Name\", StringType()),\n",
    "    StructField(\"Page\", IntegerType()),\n",
    "]\n",
    "csvSchema = StructType(columns)"
   ]
  },
  {
   "cell_type": "code",
   "execution_count": 25,
   "id": "f1a8eb49-55f8-4d9b-8bbd-268441f49808",
   "metadata": {},
   "outputs": [],
   "source": [
    "manualSchemaDF = spark.read.schema(csvSchema).csv(\"bookcontentsNoHeader.csv\")"
   ]
  },
  {
   "cell_type": "code",
   "execution_count": 26,
   "id": "dca8692f-a4ad-491e-8115-54ce2fa24846",
   "metadata": {},
   "outputs": [
    {
     "name": "stdout",
     "output_type": "stream",
     "text": [
      "root\n",
      " |-- Chapter: integer (nullable = true)\n",
      " |-- Name: string (nullable = true)\n",
      " |-- Page: integer (nullable = true)\n",
      "\n"
     ]
    }
   ],
   "source": [
    "manualSchemaDF.printSchema()"
   ]
  },
  {
   "cell_type": "code",
   "execution_count": 27,
   "id": "96dc5926-026e-4a71-96ee-0f3bdb16e6dc",
   "metadata": {},
   "outputs": [
    {
     "name": "stdout",
     "output_type": "stream",
     "text": [
      "+-------+--------------------+----+\n",
      "|Chapter|                Name|Page|\n",
      "+-------+--------------------+----+\n",
      "|      1|        Introduction|  11|\n",
      "|      2|Basic Engineering...|  19|\n",
      "|      3|Advanced Engineer...|  28|\n",
      "|      4|     Hands On Course|  60|\n",
      "|      5|        Case Studies|  62|\n",
      "|      6|Best Practices Cl...|  73|\n",
      "|      7|130+ Data Sources...|  77|\n",
      "|      8|1001 Interview Qu...|  82|\n",
      "|      9|Recommended Books...|  87|\n",
      "+-------+--------------------+----+\n",
      "\n"
     ]
    }
   ],
   "source": [
    "manualSchemaDF.show()"
   ]
  },
  {
   "cell_type": "code",
   "execution_count": null,
   "id": "d81db873-d733-4353-aa88-b6fe4164a547",
   "metadata": {},
   "outputs": [],
   "source": []
  }
 ],
 "metadata": {
  "kernelspec": {
   "display_name": "Python 3 (ipykernel)",
   "language": "python",
   "name": "python3"
  },
  "language_info": {
   "codemirror_mode": {
    "name": "ipython",
    "version": 3
   },
   "file_extension": ".py",
   "mimetype": "text/x-python",
   "name": "python",
   "nbconvert_exporter": "python",
   "pygments_lexer": "ipython3",
   "version": "3.11.9"
  }
 },
 "nbformat": 4,
 "nbformat_minor": 5
}
