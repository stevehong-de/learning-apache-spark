{
 "cells": [
  {
   "cell_type": "code",
   "execution_count": 1,
   "id": "4a2cfe03-6f1a-41d3-b488-87ced7553ea7",
   "metadata": {},
   "outputs": [],
   "source": [
    "import pyspark\n",
    "from pyspark import SparkContext\n",
    "\n",
    "sc = SparkContext()\n",
    "spark = pyspark.sql.SparkSession(sc, jsparkSession=None)"
   ]
  },
  {
   "cell_type": "code",
   "execution_count": 2,
   "id": "f53c8cc0-ea3f-4867-8b81-4bbf53240a0e",
   "metadata": {},
   "outputs": [],
   "source": [
    "# Read file\n",
    "bookDF = spark.read.json(\"bookcontents.json\")"
   ]
  },
  {
   "cell_type": "code",
   "execution_count": 3,
   "id": "91bc0243-15aa-4ddc-b631-fe4a1b1b56d9",
   "metadata": {},
   "outputs": [
    {
     "name": "stdout",
     "output_type": "stream",
     "text": [
      "root\n",
      " |-- Chapter: long (nullable = true)\n",
      " |-- Name: string (nullable = true)\n",
      " |-- Page: long (nullable = true)\n",
      "\n"
     ]
    }
   ],
   "source": [
    "bookDF.printSchema()"
   ]
  },
  {
   "cell_type": "code",
   "execution_count": 4,
   "id": "66a48881-b3c3-4443-8e9a-7e879e26022b",
   "metadata": {},
   "outputs": [
    {
     "name": "stdout",
     "output_type": "stream",
     "text": [
      "+-------+--------------------+----+\n",
      "|Chapter|                Name|Page|\n",
      "+-------+--------------------+----+\n",
      "|      1|        Introduction|  11|\n",
      "|      2|Basic Engineering...|  19|\n",
      "|      3|Advanced Engineer...|  28|\n",
      "|      4|     Hands On Course|  60|\n",
      "|      5|        Case Studies|  62|\n",
      "|      6|Best Practices Cl...|  73|\n",
      "|      7|130+ Data Sources...|  77|\n",
      "|      8|1001 Interview Qu...|  82|\n",
      "|      9|Recommended Books...|  87|\n",
      "+-------+--------------------+----+\n",
      "\n"
     ]
    }
   ],
   "source": [
    "# Action\n",
    "bookDF.show()"
   ]
  },
  {
   "cell_type": "code",
   "execution_count": 5,
   "id": "1fd4a2cd-3595-4113-899d-b80286503140",
   "metadata": {},
   "outputs": [],
   "source": [
    "# Transformation\n",
    "ChapterAndNameDF = bookDF.select(\"Chapter\", \"Name\")"
   ]
  },
  {
   "cell_type": "code",
   "execution_count": 6,
   "id": "ef09ad6d-cda7-41b6-9980-546843ed9dc7",
   "metadata": {},
   "outputs": [
    {
     "name": "stdout",
     "output_type": "stream",
     "text": [
      "+-------+--------------------+\n",
      "|Chapter|                Name|\n",
      "+-------+--------------------+\n",
      "|      1|        Introduction|\n",
      "|      2|Basic Engineering...|\n",
      "|      3|Advanced Engineer...|\n",
      "|      4|     Hands On Course|\n",
      "|      5|        Case Studies|\n",
      "|      6|Best Practices Cl...|\n",
      "|      7|130+ Data Sources...|\n",
      "|      8|1001 Interview Qu...|\n",
      "|      9|Recommended Books...|\n",
      "+-------+--------------------+\n",
      "\n"
     ]
    }
   ],
   "source": [
    "# Action\n",
    "ChapterAndNameDF.show()"
   ]
  },
  {
   "cell_type": "code",
   "execution_count": 7,
   "id": "57dca1a1-9750-44ba-a721-fc4bf4ce1d20",
   "metadata": {},
   "outputs": [],
   "source": [
    "# Transformation\n",
    "Chapter1to4 = ChapterAndNameDF.where(\"Chapter < 5\")"
   ]
  },
  {
   "cell_type": "code",
   "execution_count": 8,
   "id": "dc665c53-d82d-4944-b827-9358534e62dc",
   "metadata": {},
   "outputs": [
    {
     "name": "stdout",
     "output_type": "stream",
     "text": [
      "+-------+--------------------+\n",
      "|Chapter|                Name|\n",
      "+-------+--------------------+\n",
      "|      1|        Introduction|\n",
      "|      2|Basic Engineering...|\n",
      "|      3|Advanced Engineer...|\n",
      "|      4|     Hands On Course|\n",
      "+-------+--------------------+\n",
      "\n"
     ]
    }
   ],
   "source": [
    "# Action\n",
    "Chapter1to4.show()"
   ]
  },
  {
   "cell_type": "code",
   "execution_count": 9,
   "id": "f0ebf04f-23f0-4985-982d-3ab2d4e62afc",
   "metadata": {},
   "outputs": [
    {
     "name": "stdout",
     "output_type": "stream",
     "text": [
      "+-------+--------------------+\n",
      "|Chapter|                Name|\n",
      "+-------+--------------------+\n",
      "|      1|        Introduction|\n",
      "|      2|Basic Engineering...|\n",
      "|      3|Advanced Engineer...|\n",
      "|      4|     Hands On Course|\n",
      "+-------+--------------------+\n",
      "\n"
     ]
    }
   ],
   "source": [
    "# Combination\n",
    "bookDF.select(\"Chapter\", \"Name\").where(\"Chapter < 5\").show()"
   ]
  },
  {
   "cell_type": "code",
   "execution_count": 11,
   "id": "9fd70fdf-72bc-4e1a-8a41-c6a97bc60d24",
   "metadata": {},
   "outputs": [],
   "source": [
    "# Write as JSON\n",
    "Chapter1to4.write.json(\"Contents1to4\")"
   ]
  },
  {
   "cell_type": "code",
   "execution_count": null,
   "id": "82cbc352-8126-4a5c-8763-d77a2757374c",
   "metadata": {},
   "outputs": [],
   "source": []
  }
 ],
 "metadata": {
  "kernelspec": {
   "display_name": "Python 3 (ipykernel)",
   "language": "python",
   "name": "python3"
  },
  "language_info": {
   "codemirror_mode": {
    "name": "ipython",
    "version": 3
   },
   "file_extension": ".py",
   "mimetype": "text/x-python",
   "name": "python",
   "nbconvert_exporter": "python",
   "pygments_lexer": "ipython3",
   "version": "3.11.9"
  }
 },
 "nbformat": 4,
 "nbformat_minor": 5
}
