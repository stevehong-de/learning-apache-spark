{
 "cells": [
  {
   "cell_type": "code",
   "execution_count": 1,
   "id": "840d09a0-4027-4558-82cc-d733d1bb3dae",
   "metadata": {},
   "outputs": [],
   "source": [
    "import pyspark\n",
    "from pyspark import SparkContext\n",
    "\n",
    "sc = SparkContext()\n",
    "spark = pyspark.sql.SparkSession(sc, jsparkSession=None)"
   ]
  },
  {
   "cell_type": "code",
   "execution_count": 2,
   "id": "cadce857-318b-45b1-a8b1-1b387d635e26",
   "metadata": {},
   "outputs": [],
   "source": [
    "# Load chapters\n",
    "bookChaptersDF = spark.read.option(\"inferSchema\", \"true\").option(\"header\", \"true\").csv(\"bookcontents.csv\")"
   ]
  },
  {
   "cell_type": "code",
   "execution_count": 4,
   "id": "2ab03f89-feef-4438-abb5-a2d4de364646",
   "metadata": {},
   "outputs": [
    {
     "name": "stdout",
     "output_type": "stream",
     "text": [
      "root\n",
      " |-- Chapter: integer (nullable = true)\n",
      " |-- Name: string (nullable = true)\n",
      " |-- Page: integer (nullable = true)\n",
      "\n"
     ]
    }
   ],
   "source": [
    "bookChaptersDF.printSchema()"
   ]
  },
  {
   "cell_type": "code",
   "execution_count": 5,
   "id": "1a410e2f-cb9a-4588-87ac-282fc0039acb",
   "metadata": {},
   "outputs": [
    {
     "name": "stdout",
     "output_type": "stream",
     "text": [
      "+-------+--------------------+----+\n",
      "|Chapter|                Name|Page|\n",
      "+-------+--------------------+----+\n",
      "|      1|        Introduction|  11|\n",
      "|      2|Basic Engineering...|  19|\n",
      "|      3|Advanced Engineer...|  28|\n",
      "|      4|     Hands On Course|  60|\n",
      "|      5|        Case Studies|  62|\n",
      "|      6|Best Practices Cl...|  73|\n",
      "|      7|130+ Data Sources...|  77|\n",
      "|      8|1001 Interview Qu...|  82|\n",
      "|      9|Recommended Books...|  87|\n",
      "+-------+--------------------+----+\n",
      "\n"
     ]
    }
   ],
   "source": [
    "bookChaptersDF.show()"
   ]
  },
  {
   "cell_type": "code",
   "execution_count": 6,
   "id": "9414d320-529e-4dd9-a74c-7dd5f63cb5c9",
   "metadata": {},
   "outputs": [],
   "source": [
    "# Load sections\n",
    "sectionsDF = spark.read.option(\"inferSchema\", \"true\").option(\"header\", \"true\").csv(\"sections.csv\")"
   ]
  },
  {
   "cell_type": "code",
   "execution_count": 7,
   "id": "02383e75-c19c-4073-8b21-3ba2889008ce",
   "metadata": {},
   "outputs": [
    {
     "name": "stdout",
     "output_type": "stream",
     "text": [
      "root\n",
      " |-- Chapter: integer (nullable = true)\n",
      " |-- Section: double (nullable = true)\n",
      " |-- Section_Name: string (nullable = true)\n",
      "\n"
     ]
    }
   ],
   "source": [
    "sectionsDF.printSchema()"
   ]
  },
  {
   "cell_type": "code",
   "execution_count": 8,
   "id": "93527906-4388-46c0-9c4c-500e35a4d5c5",
   "metadata": {},
   "outputs": [
    {
     "name": "stdout",
     "output_type": "stream",
     "text": [
      "+-------+-------+--------------------+\n",
      "|Chapter|Section|        Section_Name|\n",
      "+-------+-------+--------------------+\n",
      "|      1|    1.1|What is this Cook...|\n",
      "|      1|    1.2|Data Engineer vs ...|\n",
      "|      1|    1.3|My Data Science P...|\n",
      "|      1|    1.4|  Who Companies Need|\n",
      "|      2|    2.1|       Learn To Code|\n",
      "|      2|    2.2|Get Familiar With...|\n",
      "|      2|    2.3|   Agile Development|\n",
      "|      2|    2.4|Software Engineer...|\n",
      "|      2|    2.5|Learn how a Compu...|\n",
      "|      2|    2.6|Data Network Tran...|\n",
      "|      2|    2.7|Security and Privacy|\n",
      "|      2|    2.8|               Linux|\n",
      "|      2|    2.9|              Docker|\n",
      "|      2|    2.1|           The Cloud|\n",
      "|      2|   2.11|Security Zone Design|\n",
      "|      3|    3.1|Data Science Plat...|\n",
      "|      3|    3.2|    Hadoop Platforms|\n",
      "|      3|    3.3|             Connect|\n",
      "|      3|    3.4|              Buffer|\n",
      "|      3|    3.5|Processing Framew...|\n",
      "+-------+-------+--------------------+\n",
      "only showing top 20 rows\n",
      "\n"
     ]
    }
   ],
   "source": [
    "sectionsDF.show()"
   ]
  },
  {
   "cell_type": "code",
   "execution_count": 9,
   "id": "4475bd7d-8af1-45b2-ba6a-8b052b3fe901",
   "metadata": {},
   "outputs": [
    {
     "name": "stdout",
     "output_type": "stream",
     "text": [
      "+-------+--------------------+----+-------+--------------------+\n",
      "|Chapter|                Name|Page|Section|        Section_Name|\n",
      "+-------+--------------------+----+-------+--------------------+\n",
      "|      1|        Introduction|  11|    1.1|What is this Cook...|\n",
      "|      1|        Introduction|  11|    1.2|Data Engineer vs ...|\n",
      "|      1|        Introduction|  11|    1.3|My Data Science P...|\n",
      "|      1|        Introduction|  11|    1.4|  Who Companies Need|\n",
      "|      2|Basic Engineering...|  19|    2.1|       Learn To Code|\n",
      "|      2|Basic Engineering...|  19|    2.2|Get Familiar With...|\n",
      "|      2|Basic Engineering...|  19|    2.3|   Agile Development|\n",
      "|      2|Basic Engineering...|  19|    2.4|Software Engineer...|\n",
      "|      2|Basic Engineering...|  19|    2.5|Learn how a Compu...|\n",
      "|      2|Basic Engineering...|  19|    2.6|Data Network Tran...|\n",
      "|      2|Basic Engineering...|  19|    2.7|Security and Privacy|\n",
      "|      2|Basic Engineering...|  19|    2.8|               Linux|\n",
      "|      2|Basic Engineering...|  19|    2.9|              Docker|\n",
      "|      2|Basic Engineering...|  19|    2.1|           The Cloud|\n",
      "|      2|Basic Engineering...|  19|   2.11|Security Zone Design|\n",
      "+-------+--------------------+----+-------+--------------------+\n",
      "\n"
     ]
    }
   ],
   "source": [
    "# Join\n",
    "bookChaptersDF.join(sectionsDF, \"Chapter\").where(\"Chapter == 1 or Chapter == 2\").show()"
   ]
  },
  {
   "cell_type": "code",
   "execution_count": 11,
   "id": "3528af86-332a-481f-80b5-d78727c81088",
   "metadata": {},
   "outputs": [],
   "source": [
    "# Access columns\n",
    "bookContentDF = bookChaptersDF.join(sectionsDF, \"Chapter\")"
   ]
  },
  {
   "cell_type": "code",
   "execution_count": 12,
   "id": "86c50f78-dfe4-404d-b380-6bd9419db807",
   "metadata": {},
   "outputs": [
    {
     "data": {
      "text/plain": [
       "Column<'Chapter'>"
      ]
     },
     "execution_count": 12,
     "metadata": {},
     "output_type": "execute_result"
    }
   ],
   "source": [
    "bookContentDF.Chapter"
   ]
  },
  {
   "cell_type": "code",
   "execution_count": 13,
   "id": "857c7ca4-571f-43c1-a6f3-44e50fc57fc8",
   "metadata": {},
   "outputs": [
    {
     "name": "stdout",
     "output_type": "stream",
     "text": [
      "+--------------------+-------+\n",
      "|        Section_Name|Chapter|\n",
      "+--------------------+-------+\n",
      "|What is this Cook...|      1|\n",
      "|Data Engineer vs ...|      1|\n",
      "|My Data Science P...|      1|\n",
      "|  Who Companies Need|      1|\n",
      "|       Learn To Code|      2|\n",
      "|Get Familiar With...|      2|\n",
      "|   Agile Development|      2|\n",
      "|Software Engineer...|      2|\n",
      "|Learn how a Compu...|      2|\n",
      "|Data Network Tran...|      2|\n",
      "|Security and Privacy|      2|\n",
      "|               Linux|      2|\n",
      "|              Docker|      2|\n",
      "|           The Cloud|      2|\n",
      "|Security Zone Design|      2|\n",
      "|Data Science Plat...|      3|\n",
      "|    Hadoop Platforms|      3|\n",
      "|             Connect|      3|\n",
      "|              Buffer|      3|\n",
      "|Processing Framew...|      3|\n",
      "+--------------------+-------+\n",
      "only showing top 20 rows\n",
      "\n"
     ]
    }
   ],
   "source": [
    "bookContentDF.select(bookContentDF.Section_Name, \"Chapter\").show()"
   ]
  },
  {
   "cell_type": "code",
   "execution_count": 15,
   "id": "b5ba7e58-2e7c-4574-966f-826f9e65af3b",
   "metadata": {},
   "outputs": [
    {
     "name": "stdout",
     "output_type": "stream",
     "text": [
      "+--------------------+--------------+\n",
      "|        Section_Name|(Chapter * 10)|\n",
      "+--------------------+--------------+\n",
      "|What is this Cook...|            10|\n",
      "|Data Engineer vs ...|            10|\n",
      "|My Data Science P...|            10|\n",
      "|  Who Companies Need|            10|\n",
      "|       Learn To Code|            20|\n",
      "|Get Familiar With...|            20|\n",
      "|   Agile Development|            20|\n",
      "|Software Engineer...|            20|\n",
      "|Learn how a Compu...|            20|\n",
      "|Data Network Tran...|            20|\n",
      "|Security and Privacy|            20|\n",
      "|               Linux|            20|\n",
      "|              Docker|            20|\n",
      "|           The Cloud|            20|\n",
      "|Security Zone Design|            20|\n",
      "|Data Science Plat...|            30|\n",
      "|    Hadoop Platforms|            30|\n",
      "|             Connect|            30|\n",
      "|              Buffer|            30|\n",
      "|Processing Framew...|            30|\n",
      "+--------------------+--------------+\n",
      "only showing top 20 rows\n",
      "\n"
     ]
    }
   ],
   "source": [
    "# Multiply values\n",
    "bookContentDF.select(\"Section_Name\", bookContentDF.Chapter * 10).show()"
   ]
  },
  {
   "cell_type": "code",
   "execution_count": 16,
   "id": "f7a84889-f29f-4490-9bbd-4fb0b9573ab9",
   "metadata": {},
   "outputs": [
    {
     "name": "stdout",
     "output_type": "stream",
     "text": [
      "+--------------------+----------+\n",
      "|        Section_Name|Chapter_10|\n",
      "+--------------------+----------+\n",
      "|What is this Cook...|        10|\n",
      "|Data Engineer vs ...|        10|\n",
      "|My Data Science P...|        10|\n",
      "|  Who Companies Need|        10|\n",
      "|       Learn To Code|        20|\n",
      "|Get Familiar With...|        20|\n",
      "|   Agile Development|        20|\n",
      "|Software Engineer...|        20|\n",
      "|Learn how a Compu...|        20|\n",
      "|Data Network Tran...|        20|\n",
      "|Security and Privacy|        20|\n",
      "|               Linux|        20|\n",
      "|              Docker|        20|\n",
      "|           The Cloud|        20|\n",
      "|Security Zone Design|        20|\n",
      "|Data Science Plat...|        30|\n",
      "|    Hadoop Platforms|        30|\n",
      "|             Connect|        30|\n",
      "|              Buffer|        30|\n",
      "|Processing Framew...|        30|\n",
      "+--------------------+----------+\n",
      "only showing top 20 rows\n",
      "\n"
     ]
    }
   ],
   "source": [
    "# Use alias for column\n",
    "bookContentDF.select(\"Section_Name\", (bookContentDF.Chapter * 10).alias(\"Chapter_10\")).show()"
   ]
  },
  {
   "cell_type": "code",
   "execution_count": 17,
   "id": "eb440713-f24e-4a38-b0e3-d30cb2d21f35",
   "metadata": {},
   "outputs": [
    {
     "name": "stdout",
     "output_type": "stream",
     "text": [
      "+-------+--------------------+----+-------+--------------------+\n",
      "|Chapter|                Name|Page|Section|        Section_Name|\n",
      "+-------+--------------------+----+-------+--------------------+\n",
      "|      1|        Introduction|  11|    1.2|Data Engineer vs ...|\n",
      "|      1|        Introduction|  11|    1.3|My Data Science P...|\n",
      "|      2|Basic Engineering...|  19|    2.6|Data Network Tran...|\n",
      "|      3|Advanced Engineer...|  28|    3.1|Data Science Plat...|\n",
      "|      4|     Hands On Course|  60|    4.6|Apache Zeppelin D...|\n",
      "|      5|        Case Studies|  62|    5.1| Data Science Airbnb|\n",
      "|      5|        Case Studies|  62|    5.2| Data Science Amazon|\n",
      "|      5|        Case Studies|  62|    5.3|  Data Science Baidu|\n",
      "|      5|        Case Studies|  62|    5.4|Data Science Blac...|\n",
      "|      5|        Case Studies|  62|    5.5|    Data Science BMW|\n",
      "|      5|        Case Studies|  62|    5.6|Data Science Book...|\n",
      "|      5|        Case Studies|  62|    5.7|   Data Science CERN|\n",
      "|      5|        Case Studies|  62|    5.8| Data Science Disney|\n",
      "|      5|        Case Studies|  62|    5.9|    Data Science DLR|\n",
      "|      5|        Case Studies|  62|    5.1|Data Science Driv...|\n",
      "|      5|        Case Studies|  62|   5.11|Data Science Dropbox|\n",
      "|      5|        Case Studies|  62|   5.12|   Data Science Ebay|\n",
      "|      5|        Case Studies|  62|   5.13|Data Science Expedia|\n",
      "|      5|        Case Studies|  62|   5.14|Data Science Face...|\n",
      "|      5|        Case Studies|  62|   5.15| Data Science Google|\n",
      "+-------+--------------------+----+-------+--------------------+\n",
      "only showing top 20 rows\n",
      "\n"
     ]
    }
   ],
   "source": [
    "# Select somthing specific\n",
    "bookContentDF.where(bookContentDF.Section_Name.contains(\"Data\")).show()"
   ]
  },
  {
   "cell_type": "code",
   "execution_count": 18,
   "id": "d70718c1-cba9-4c3e-8a54-adcdf523cf9b",
   "metadata": {},
   "outputs": [
    {
     "name": "stdout",
     "output_type": "stream",
     "text": [
      "+-------+-----+\n",
      "|Chapter|count|\n",
      "+-------+-----+\n",
      "|      1|    4|\n",
      "|      6|    3|\n",
      "|      3|    8|\n",
      "|      5|   37|\n",
      "|      9|    3|\n",
      "|      4|    7|\n",
      "|      8|    1|\n",
      "|      7|   19|\n",
      "|      2|   11|\n",
      "+-------+-----+\n",
      "\n"
     ]
    }
   ],
   "source": [
    "# Group by\n",
    "bookContentDF.groupBy(bookContentDF.Chapter).count().show()"
   ]
  },
  {
   "cell_type": "code",
   "execution_count": null,
   "id": "9b400eb3-128e-4b34-b359-36bd66eab86c",
   "metadata": {},
   "outputs": [],
   "source": []
  }
 ],
 "metadata": {
  "kernelspec": {
   "display_name": "Python 3 (ipykernel)",
   "language": "python",
   "name": "python3"
  },
  "language_info": {
   "codemirror_mode": {
    "name": "ipython",
    "version": 3
   },
   "file_extension": ".py",
   "mimetype": "text/x-python",
   "name": "python",
   "nbconvert_exporter": "python",
   "pygments_lexer": "ipython3",
   "version": "3.11.9"
  }
 },
 "nbformat": 4,
 "nbformat_minor": 5
}
